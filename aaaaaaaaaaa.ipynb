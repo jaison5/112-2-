{
 "cells": [
  {
   "cell_type": "code",
   "execution_count": 1,
   "id": "e8fc5edd",
   "metadata": {},
   "outputs": [
    {
     "name": "stdout",
     "output_type": "stream",
     "text": [
      "平均薪資： 189778.36651208502\n",
      "薪資標準差： 105548.3568808909\n",
      "薪資中位數： 178356.0\n"
     ]
    }
   ],
   "source": [
    "import pandas as pd\n",
    "import numpy as np\n",
    "\n",
    "data = pd.read_csv('adult.csv')\n",
    "\n",
    "income = data['Income']\n",
    "mean_income = np.mean(income)\n",
    "std_income = np.std(income)\n",
    "median_income = np.median(income)\n",
    "\n",
    "print(\"平均薪資：\", mean_income)\n",
    "print(\"薪資標準差：\", std_income)\n",
    "print(\"薪資中位數：\", median_income)"
   ]
  },
  {
   "cell_type": "code",
   "execution_count": null,
   "id": "fd999c69",
   "metadata": {},
   "outputs": [],
   "source": []
  }
 ],
 "metadata": {
  "kernelspec": {
   "display_name": "Python 3 (ipykernel)",
   "language": "python",
   "name": "python3"
  },
  "language_info": {
   "codemirror_mode": {
    "name": "ipython",
    "version": 3
   },
   "file_extension": ".py",
   "mimetype": "text/x-python",
   "name": "python",
   "nbconvert_exporter": "python",
   "pygments_lexer": "ipython3",
   "version": "3.11.5"
  }
 },
 "nbformat": 4,
 "nbformat_minor": 5
}
